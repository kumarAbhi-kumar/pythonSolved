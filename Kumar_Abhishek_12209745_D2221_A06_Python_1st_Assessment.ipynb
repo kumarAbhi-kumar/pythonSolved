{
 "cells": [
  {
   "cell_type": "code",
   "execution_count": 1,
   "id": "a0ba6f2d",
   "metadata": {},
   "outputs": [
    {
     "data": {
      "text/plain": [
       "'abc'"
      ]
     },
     "execution_count": 1,
     "metadata": {},
     "output_type": "execute_result"
    }
   ],
   "source": [
    "#1. What will be the output of the \"a\"+\"bc\" Python statement.\n",
    "\"a\" + \"bc\""
   ]
  },
  {
   "cell_type": "code",
   "execution_count": 2,
   "id": "ad85eaf5",
   "metadata": {},
   "outputs": [
    {
     "name": "stdout",
     "output_type": "stream",
     "text": [
      "3\n"
     ]
    }
   ],
   "source": [
    "#2 my_first_string = \"algebra\" is a string. Write python program to find the position of \"g\".\n",
    "my_first_string = \"algebra\"\n",
    "str_to_be_searched = 'g'\n",
    "counter = 0\n",
    "for i in my_first_string:\n",
    "    counter += 1\n",
    "    if i == str_to_be_searched:\n",
    "        print(counter)"
   ]
  },
  {
   "cell_type": "code",
   "execution_count": 3,
   "id": "4fda4e31",
   "metadata": {},
   "outputs": [
    {
     "name": "stdout",
     "output_type": "stream",
     "text": [
      "dlrowolleh\n"
     ]
    }
   ],
   "source": [
    "#3. Write python program to reverse the string str1 = \"helloworld\"\n",
    "str1 = \"helloworld\"\n",
    "print(str1[::-1])"
   ]
  },
  {
   "cell_type": "code",
   "execution_count": 4,
   "id": "e996688e",
   "metadata": {},
   "outputs": [
    {
     "name": "stdout",
     "output_type": "stream",
     "text": [
      "12\n"
     ]
    }
   ],
   "source": [
    "#4. What is the length of string algo = 'regres sion '\n",
    "algo = \"regres sion \"\n",
    "print(len(algo))"
   ]
  },
  {
   "cell_type": "code",
   "execution_count": 5,
   "id": "9f242515",
   "metadata": {},
   "outputs": [
    {
     "name": "stdout",
     "output_type": "stream",
     "text": [
      "wo\n"
     ]
    }
   ],
   "source": [
    "#5.Write a python code to print {wo}.string is example = 'snow world'\n",
    "example = 'snow world'\n",
    "output = example[5:7]\n",
    "print(output)"
   ]
  },
  {
   "cell_type": "code",
   "execution_count": 6,
   "id": "d2f5cd0b",
   "metadata": {},
   "outputs": [
    {
     "name": "stdout",
     "output_type": "stream",
     "text": [
      " \n"
     ]
    }
   ],
   "source": [
    "# 6. Write a python program to string = \"Principal Component\" find the 10th position letter.\n",
    "string = \"Principal Component\"\n",
    "print(string[9])\n",
    "# since the 10th element would be at 9th index"
   ]
  },
  {
   "cell_type": "code",
   "execution_count": 7,
   "id": "8a5f0801",
   "metadata": {},
   "outputs": [
    {
     "name": "stdout",
     "output_type": "stream",
     "text": [
      "t\n"
     ]
    }
   ],
   "source": [
    "# 7. Write a python program string = \"Principal Component\" to print the last letter?\n",
    "string = \"Principal Component\"\n",
    "print(string[-1])"
   ]
  },
  {
   "cell_type": "code",
   "execution_count": 8,
   "id": "f0d4fae9",
   "metadata": {},
   "outputs": [
    {
     "ename": "SyntaxError",
     "evalue": "EOL while scanning string literal (3548807773.py, line 2)",
     "output_type": "error",
     "traceback": [
      "\u001b[1;36m  Input \u001b[1;32mIn [8]\u001b[1;36m\u001b[0m\n\u001b[1;33m    example = \"snow world\u001b[0m\n\u001b[1;37m                         ^\u001b[0m\n\u001b[1;31mSyntaxError\u001b[0m\u001b[1;31m:\u001b[0m EOL while scanning string literal\n"
     ]
    }
   ],
   "source": [
    "#8. What type of error you face while running the following code in python Environment?\n",
    "example = \"snow world"
   ]
  },
  {
   "cell_type": "code",
   "execution_count": 9,
   "id": "4e1c4180",
   "metadata": {},
   "outputs": [
    {
     "name": "stdout",
     "output_type": "stream",
     "text": [
      "neural networks\n"
     ]
    }
   ],
   "source": [
    "# 9. Write a code for lower the all letters in string algorithm = \"Neural Networks\"\n",
    "algorithm = \"Neural Networks\"\n",
    "print(algorithm.lower())"
   ]
  },
  {
   "cell_type": "code",
   "execution_count": 10,
   "id": "8eadf965",
   "metadata": {},
   "outputs": [
    {
     "name": "stdout",
     "output_type": "stream",
     "text": [
      "I like apples \n"
     ]
    }
   ],
   "source": [
    "# 10. Write a code for replacing string txt = 'I like bananas' sub part of string \"bananas\" with \"apples\".\n",
    "txt = 'I like bananas'\n",
    "new_txt = ''\n",
    "split_txt = txt.split()\n",
    "for i in split_txt:\n",
    "    if i == 'bananas':\n",
    "        new_txt += \"apples\" + \" \"\n",
    "    else:\n",
    "        new_txt += i + \" \"\n",
    "print(new_txt)"
   ]
  },
  {
   "cell_type": "code",
   "execution_count": 11,
   "id": "9163364c",
   "metadata": {},
   "outputs": [
    {
     "name": "stdout",
     "output_type": "stream",
     "text": [
      "Nambi Narayan\n"
     ]
    }
   ],
   "source": [
    "# 11. first_name = 'Nambi', last_name = \"Narayan\", write a program for combining the first name and last name?\n",
    "\n",
    "first_name = \"Nambi\"\n",
    "last_name = \"Narayan\"\n",
    "full_name = first_name + \" \" + last_name\n",
    "print(full_name)"
   ]
  },
  {
   "cell_type": "code",
   "execution_count": 12,
   "id": "6b6cc856",
   "metadata": {},
   "outputs": [
    {
     "data": {
      "text/plain": [
       "['Welcome', 'to', 'the', 'jungle']"
      ]
     },
     "execution_count": 12,
     "metadata": {},
     "output_type": "execute_result"
    }
   ],
   "source": [
    "#12. In the given txt = \"welcome to the jungle\" seperate that sentence into a list of string words.\n",
    "txt = \"Welcome to the jungle\"\n",
    "txt.split()"
   ]
  },
  {
   "cell_type": "code",
   "execution_count": 13,
   "id": "765c04f4",
   "metadata": {},
   "outputs": [
    {
     "name": "stdout",
     "output_type": "stream",
     "text": [
      "Kumar Abhishek \n"
     ]
    }
   ],
   "source": [
    "# 13. Write your name as string and convert the first of each word in upper case using python?\n",
    "string = \"kumar abhishek\"\n",
    "split_str = string.split()\n",
    "word = \"\"\n",
    "for txt in split_str:\n",
    "    word += txt.capitalize() + \" \"\n",
    "print(word)"
   ]
  },
  {
   "cell_type": "code",
   "execution_count": 15,
   "id": "4f6603d1",
   "metadata": {},
   "outputs": [
    {
     "name": "stdout",
     "output_type": "stream",
     "text": [
      "Enter a string to check whether its palindrome or not... \n",
      ">Naman\n",
      "The string is palindrome\n"
     ]
    }
   ],
   "source": [
    "# 14. Python program to check whether the string is Palindrome or not?\n",
    "orignal_text = input(\"Enter a string to check whether its palindrome or not... \\n>\")\n",
    "reverse_text = orignal_text[::-1]\n",
    "\n",
    "if orignal_text.casefold() == reverse_text.casefold():\n",
    "    print(\"The string is palindrome\")\n",
    "else:\n",
    "    print(\"The string is not palindrome\")"
   ]
  },
  {
   "cell_type": "code",
   "execution_count": 16,
   "id": "38e0a00c",
   "metadata": {},
   "outputs": [
    {
     "name": "stdout",
     "output_type": "stream",
     "text": [
      "HelloWorld, HelloHelloHello\n"
     ]
    }
   ],
   "source": [
    "# 15. Write a program to ger the output HelloWorld!, HelloHelloHello.\n",
    "word1 = \"Hello\"\n",
    "word2 = \"World\"\n",
    "print(f'''{word1}{word2}, {word1*3}''')"
   ]
  },
  {
   "cell_type": "code",
   "execution_count": 17,
   "id": "ccad55cb",
   "metadata": {},
   "outputs": [
    {
     "name": "stdout",
     "output_type": "stream",
     "text": [
      "('c', 'o', 'l', 'd')\n"
     ]
    }
   ],
   "source": [
    "# 16. Write program to ger the output as list of tuples from string strn = \"cold\"\n",
    "strn = \"cold\"\n",
    "txt = []\n",
    "for elements in strn:\n",
    "    txt += elements\n",
    "my_tuple = tuple(txt)\n",
    "print(my_tuple)"
   ]
  },
  {
   "cell_type": "code",
   "execution_count": 18,
   "id": "a1c83a6d",
   "metadata": {},
   "outputs": [
    {
     "name": "stdout",
     "output_type": "stream",
     "text": [
      ">10\n",
      "3\n",
      "Using count()\n",
      ">10\n",
      "3\n"
     ]
    }
   ],
   "source": [
    "# 17. Write python program for counting occurrences of an element in a list = [15, 6, 7, 10, 12, 20, 10, 28, 10]\n",
    "list1 = [15, 6, 7, 10, 12, 20, 10, 28, 10]\n",
    "element = int(input(\">\"))\n",
    "count = 0\n",
    "for items in list1:\n",
    "    if items == element:\n",
    "        count += 1\n",
    "print(count)\n",
    "\n",
    "# IInd method using count().\n",
    "\n",
    "list1 = [15, 6, 7, 10, 12, 20, 10, 28, 10]\n",
    "number = int(input(\"Using count()\\n>\"))\n",
    "counter = list1.count(number)\n",
    "print(counter)\n"
   ]
  },
  {
   "cell_type": "code",
   "execution_count": 19,
   "id": "5e341f27",
   "metadata": {},
   "outputs": [
    {
     "name": "stdout",
     "output_type": "stream",
     "text": [
      "4\n",
      "4\n"
     ]
    }
   ],
   "source": [
    "# 18. Write python program for most frequent values/occurrence in the list test = [1, 2, 3, 4, 2, 3, 2, 1, 4, 4, 4]\n",
    "list1 = [1, 2, 3, 4, 2, 3, 2, 1, 4, 4, 4]\n",
    "\n",
    "# Ist method - without count funtion\n",
    "\n",
    "def occurrence(element):\n",
    "    count = 0\n",
    "    for items in list1:\n",
    "        if items == element:\n",
    "            count += 1\n",
    "    return count\n",
    "\n",
    "\n",
    "def highest_occurrence(list_copy):\n",
    "    current_highest_frequency = 0\n",
    "    num = list_copy[0]\n",
    "    for items in list_copy:\n",
    "        current_element_frequency = occurrence(items)\n",
    "        if current_element_frequency > current_highest_frequency:\n",
    "            current_highest_frequency = current_element_frequency\n",
    "            num = items\n",
    "\n",
    "    return num\n",
    "\n",
    "\n",
    "print(highest_occurrence(list1))\n",
    "\n",
    "# IInd method: using count().\n",
    "\n",
    "list1 = [1, 2, 3, 4, 2, 3, 2, 1, 4, 4, 4]\n",
    "\n",
    "\n",
    "def occurrence1(element, list_copy2):\n",
    "    counter = list_copy2.count(element)\n",
    "    return counter\n",
    "\n",
    "\n",
    "def highest_occurrence1(list_copy):\n",
    "    current_highest_frequency = 0\n",
    "    num = list_copy[0]\n",
    "    for items in list_copy:\n",
    "        current_element_frequency = occurrence1(items, list_copy)\n",
    "        if current_element_frequency > current_highest_frequency:\n",
    "            current_highest_frequency = current_element_frequency\n",
    "            num = items\n",
    "\n",
    "    return num\n",
    "\n",
    "\n",
    "print(highest_occurrence1(list1))\n"
   ]
  },
  {
   "cell_type": "code",
   "execution_count": 20,
   "id": "c6125862",
   "metadata": {},
   "outputs": [
    {
     "name": "stdout",
     "output_type": "stream",
     "text": [
      "Greatest number = 1000\n",
      "&\n",
      "Smallest number = 1\n",
      "in the given list...\n"
     ]
    }
   ],
   "source": [
    "# 19. Write python program for finding the minimun and maximum numbers in list list1 = [201, 55, 10, 5, 80, 90, 1, 1000]\n",
    "list1 = [201, 55, 10, 5, 80, 90, 1, 1000]\n",
    "min = list1[0]\n",
    "max = list1[0]\n",
    "\n",
    "for items in list1:\n",
    "    if items < min:\n",
    "        min = items\n",
    "    elif items > max:\n",
    "        max = items\n",
    "\n",
    "print(f'''Greatest number = {max}\\n&\\nSmallest number = {min}\\nin the given list...''')"
   ]
  },
  {
   "cell_type": "code",
   "execution_count": 21,
   "id": "5bde5137",
   "metadata": {},
   "outputs": [
    {
     "ename": "TypeError",
     "evalue": "'int' object is not callable",
     "output_type": "error",
     "traceback": [
      "\u001b[1;31m---------------------------------------------------------------------------\u001b[0m",
      "\u001b[1;31mTypeError\u001b[0m                                 Traceback (most recent call last)",
      "Input \u001b[1;32mIn [21]\u001b[0m, in \u001b[0;36m<cell line: 6>\u001b[1;34m()\u001b[0m\n\u001b[0;32m      5\u001b[0m b \u001b[38;5;241m=\u001b[39m \u001b[38;5;28;01mTrue\u001b[39;00m\n\u001b[0;32m      6\u001b[0m \u001b[38;5;28;01mfor\u001b[39;00m i \u001b[38;5;129;01min\u001b[39;00m \u001b[38;5;28mrange\u001b[39m(\u001b[38;5;241m2\u001b[39m):\n\u001b[1;32m----> 7\u001b[0m     maximum \u001b[38;5;241m=\u001b[39m \u001b[38;5;28;43mmax\u001b[39;49m\u001b[43m(\u001b[49m\u001b[43mlist3\u001b[49m\u001b[43m)\u001b[49m\n\u001b[0;32m      8\u001b[0m     \u001b[38;5;28;01mwhile\u001b[39;00m b:\n\u001b[0;32m      9\u001b[0m         \u001b[38;5;28;01mif\u001b[39;00m maximum \u001b[38;5;241m==\u001b[39m list3[\u001b[38;5;241m-\u001b[39m\u001b[38;5;241m1\u001b[39m]:\n",
      "\u001b[1;31mTypeError\u001b[0m: 'int' object is not callable"
     ]
    }
   ],
   "source": [
    "# 20. Write python program for finding the second-largest number in a list, list3 = [70, 11, 20 , 4, 100]\n",
    "list3 = [70, 11, 20, 4, 100]\n",
    "list3.sort()\n",
    "number = 0\n",
    "b = True\n",
    "for i in range(2):\n",
    "    maximum = max(list3)\n",
    "    while b:\n",
    "        if maximum == list3[-1]:\n",
    "            number = list3.pop()\n",
    "        else:\n",
    "            b = False\n",
    "    b = True\n",
    "\n",
    "print(number)\n",
    "\n",
    "# IInd method - since the elements are unique...\n",
    "list3 = [70, 11, 20, 4, 100]\n",
    "list3.sort()\n",
    "print(list3[-2])\n"
   ]
  },
  {
   "cell_type": "code",
   "execution_count": 22,
   "id": "31427b3a",
   "metadata": {},
   "outputs": [
    {
     "name": "stdout",
     "output_type": "stream",
     "text": [
      "5\n"
     ]
    }
   ],
   "source": [
    "# 21. Python program for counting unique values in the  list input_list = [1, 2, 2, 5, 8, 4, 4, 8]\n",
    "input_list = [1, 2, 2, 5, 8, 4, 4, 8]\n",
    "input_list.sort()\n",
    "new_list = []\n",
    "for items in input_list:\n",
    "    if items not in new_list:\n",
    "        new_list.append(items)\n",
    "\n",
    "print(len(new_list))"
   ]
  },
  {
   "cell_type": "code",
   "execution_count": 23,
   "id": "4a030d3d",
   "metadata": {},
   "outputs": [
    {
     "name": "stdout",
     "output_type": "stream",
     "text": [
      "[1, 2, 3, 4, 'Laxman']\n"
     ]
    }
   ],
   "source": [
    "# 22. Write a python program add \"Laxman\" to python list list = [1, 2, 3, 4]\n",
    "input_list = [1, 2, 3, 4]\n",
    "input_list.append(\"Laxman\")\n",
    "print((input_list))"
   ]
  },
  {
   "cell_type": "code",
   "execution_count": 24,
   "id": "d12f6959",
   "metadata": {},
   "outputs": [
    {
     "name": "stdout",
     "output_type": "stream",
     "text": [
      "[1, 3, 4, 5, 15]\n"
     ]
    }
   ],
   "source": [
    "#23. Write python program for removing index position 2 value from list list = [1, 2, 3, 4, 5, 15]\n",
    "input_list = [1, 2, 3, 4, 5, 15]\n",
    "input_list.pop(1)\n",
    "print(input_list)\n"
   ]
  },
  {
   "cell_type": "code",
   "execution_count": 25,
   "id": "53750493",
   "metadata": {},
   "outputs": [
    {
     "name": "stdout",
     "output_type": "stream",
     "text": [
      "['Mean Absolute Error', 'Mean Squared Error', 'Huber Loss', 'Log Loss', 'Hinge Loss', 'Kullback-Libler']\n"
     ]
    }
   ],
   "source": [
    "# 24.Write python program for add list ['Kullback-Libler'] to an existing list loss_functions = ['Mean Absolute Error', 'Mean Squared Error', 'Huber Loss', 'Log Loss', 'Hinge Loss']\n",
    "loss_functions = ['Mean Absolute Error', 'Mean Squared Error', 'Huber Loss', 'Log Loss', 'Hinge Loss']\n",
    "list1 = ['Kullback-Libler']\n",
    "final_list = loss_functions + list1\n",
    "print(final_list)\n"
   ]
  },
  {
   "cell_type": "code",
   "execution_count": 26,
   "id": "31da2f86",
   "metadata": {},
   "outputs": [
    {
     "name": "stdout",
     "output_type": "stream",
     "text": [
      "[24, 35, 9, 56, 12]\n"
     ]
    }
   ],
   "source": [
    "# 25. Write a python program to interchange first and last elements in list ravi = [12, 35, 9, 56, 24]\n",
    "ravi = [12, 35, 9, 56, 24]\n",
    "\n",
    "first_element = ravi.pop(0)\n",
    "last_element = ravi.pop()\n",
    "\n",
    "ravi.insert(0, last_element)\n",
    "ravi.append(first_element)\n",
    "\n",
    "print(ravi)\n"
   ]
  },
  {
   "cell_type": "code",
   "execution_count": 27,
   "id": "66c5acaa",
   "metadata": {},
   "outputs": [
    {
     "name": "stdout",
     "output_type": "stream",
     "text": [
      "[15, 14, 13, 12, 11, 10]\n"
     ]
    }
   ],
   "source": [
    "# 26. write python program for reversing a list in python list = [0, 11, 12, 13, 14, 15]\n",
    "input_list = [10, 11, 12, 13, 14, 15]\n",
    "input_list.reverse()\n",
    "print(input_list)\n"
   ]
  },
  {
   "cell_type": "code",
   "execution_count": 29,
   "id": "c46a1de4",
   "metadata": {},
   "outputs": [
    {
     "name": "stdout",
     "output_type": "stream",
     "text": [
      "2\n"
     ]
    }
   ],
   "source": [
    "# 27. write python program for Grab the element at the index -3, which is the third last element of tuple Tuple = input_tuple = ('one', 2, 4.53, 'asbc')\n",
    "input_tuple = ('one', 2, 4.53, 'asbc')\n",
    "third_last_value = input_tuple[-3]\n",
    "print(third_last_value)\n"
   ]
  },
  {
   "cell_type": "code",
   "execution_count": 33,
   "id": "5a01bed1",
   "metadata": {},
   "outputs": [
    {
     "name": "stdout",
     "output_type": "stream",
     "text": [
      "1 occurs in the tuple for 3 times\n"
     ]
    }
   ],
   "source": [
    "# 28. Write a python program for total occurrence of 1 in a tuple = (1, 2, 3, 4, 5, 6, 1, 1, 2)\n",
    "my_tuple = (1, 2, 3, 4, 5, 6, 1, 1, 2)\n",
    "print(f'''1 occurs in the tuple for {my_tuple.count(1)} times''')\n"
   ]
  },
  {
   "cell_type": "code",
   "execution_count": 32,
   "id": "8c9a0e85",
   "metadata": {},
   "outputs": [
    {
     "name": "stdout",
     "output_type": "stream",
     "text": [
      "(0, 1, 2, 3, 4, 5, 6, 7)\n",
      "(0, 1, 2, 3, 4, 5, 6, 7)\n"
     ]
    }
   ],
   "source": [
    "# 29. Write a python program for concatenate the tuples Tuple1 = (0, 1, 2, 3), Tuple2 = (4, 5, 6, 7)\n",
    "my_tuple1 = (0, 1, 2, 3)\n",
    "my_tuple2 = (4, 5, 6, 7)\n",
    "result_tuple = my_tuple1 + my_tuple2\n",
    "print(result_tuple)\n",
    "\n",
    "# second way could be using the sum()\n",
    "result_tuple = sum((my_tuple1, my_tuple2), ())\n",
    "print(result_tuple)"
   ]
  },
  {
   "cell_type": "code",
   "execution_count": 34,
   "id": "68eb30f2",
   "metadata": {},
   "outputs": [
    {
     "name": "stdout",
     "output_type": "stream",
     "text": [
      "n\n"
     ]
    }
   ],
   "source": [
    "# 30. Write a python code to get the output as n from 'Daman' name = ['Amir', 'Bear', 'Carlton', 'Daman']\n",
    "\n",
    "my_list = ['Amir', 'Bear', 'Carlton', 'Daman']\n",
    "str_to_be_searched = 'Daman'\n",
    "word_to_be_searched = 'n'\n",
    "\n",
    "for items in my_list:\n",
    "    if str_to_be_searched is items:\n",
    "        print(str_to_be_searched[-1])\n"
   ]
  },
  {
   "cell_type": "code",
   "execution_count": null,
   "id": "f40dab3c",
   "metadata": {},
   "outputs": [],
   "source": []
  }
 ],
 "metadata": {
  "kernelspec": {
   "display_name": "Python 3 (ipykernel)",
   "language": "python",
   "name": "python3"
  },
  "language_info": {
   "codemirror_mode": {
    "name": "ipython",
    "version": 3
   },
   "file_extension": ".py",
   "mimetype": "text/x-python",
   "name": "python",
   "nbconvert_exporter": "python",
   "pygments_lexer": "ipython3",
   "version": "3.9.12"
  }
 },
 "nbformat": 4,
 "nbformat_minor": 5
}
