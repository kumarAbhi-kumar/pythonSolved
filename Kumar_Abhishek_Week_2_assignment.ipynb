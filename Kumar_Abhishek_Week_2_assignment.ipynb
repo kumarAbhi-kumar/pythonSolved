{
 "cells": [
  {
   "cell_type": "code",
   "execution_count": 1,
   "id": "ca188b80",
   "metadata": {},
   "outputs": [
    {
     "name": "stdout",
     "output_type": "stream",
     "text": [
      "> Enter the length of a rectangle: 23\n",
      "> Enter the breadth of a rectangle: 25\n",
      "Its a rectangle.\n"
     ]
    }
   ],
   "source": [
    "#1. Take values of length and breadth of a rectangle from user and check if it is square or not.\n",
    "\n",
    "length = input(\"> Enter the length of a rectangle: \")\n",
    "breadth = input(\"> Enter the breadth of a rectangle: \")\n",
    "\n",
    "if length == breadth:\n",
    "    print(\"Its a square\")\n",
    "else:\n",
    "    print(\"Its a rectangle.\")\n"
   ]
  },
  {
   "cell_type": "code",
   "execution_count": 2,
   "id": "2db2d0d5",
   "metadata": {},
   "outputs": [
    {
     "name": "stdout",
     "output_type": "stream",
     "text": [
      "> Enter first number: 25\n",
      "> Enter the second number: 90\n",
      "The greatest number among the two both is 90\n"
     ]
    }
   ],
   "source": [
    "#2.Take two int values from user and print greatest among them.\n",
    "\n",
    "first_number = input(\"> Enter first number: \")\n",
    "second_number = input(\"> Enter the second number: \")\n",
    "\n",
    "if first_number == second_number:\n",
    "    print(\"The given numbers are identical:\" + first_number+\", \" + second_number)\n",
    "else:\n",
    "    print(f'''The greatest number among the two both is {max(first_number, second_number)}''')"
   ]
  },
  {
   "cell_type": "code",
   "execution_count": 3,
   "id": "f7735cd4",
   "metadata": {},
   "outputs": [
    {
     "name": "stdout",
     "output_type": "stream",
     "text": [
      "Enter 3 different person age: 45 12 74\n",
      "IIIrd person -> 74 of age is the oldest\n",
      "2nd person -> 12 of age is the Youngest \n"
     ]
    }
   ],
   "source": [
    "#3. Take input of age of 3 people by user and determine oldest and youngest among them.\n",
    "\n",
    "f_persons_age, s_persons_age, t_persons_age = [int(i) for i in input(\"Enter 3 different person age: \").split()]\n",
    "if f_persons_age > s_persons_age and f_persons_age > t_persons_age:\n",
    "    print(f'''Ist person -> {f_persons_age} is the oldest''')\n",
    "\n",
    "elif s_persons_age > t_persons_age:\n",
    "    print(f'''2nd person -> {s_persons_age} of age is the oldest ''')\n",
    "\n",
    "else:\n",
    "    print(f'''IIIrd person -> {t_persons_age} of age is the oldest''')\n",
    "\n",
    "if f_persons_age < s_persons_age and f_persons_age < t_persons_age:\n",
    "    print(f'''Ist person -> {f_persons_age} of age is the youngest''')\n",
    "\n",
    "elif s_persons_age < t_persons_age:\n",
    "    print(f'''2nd person -> {s_persons_age} of age is the Youngest ''')\n",
    "\n",
    "else:\n",
    "    print(f'''IIIrd person -> {t_persons_age} of age is the youngest''')\n"
   ]
  },
  {
   "cell_type": "code",
   "execution_count": 4,
   "id": "614106cd",
   "metadata": {},
   "outputs": [
    {
     "name": "stdout",
     "output_type": "stream",
     "text": [
      "Enters persons age: 24\n",
      "person is eligible for voting\n"
     ]
    }
   ],
   "source": [
    "#4. write a python program to check whether a person eligible for voting or not.\n",
    "voting_age = 18\n",
    "persons_age = int(input(\"Enters persons age: \"))\n",
    "\n",
    "if persons_age < voting_age:\n",
    "    print(f\"\"\"He/She is a minor and still has {voting_age - persons_age} year to be eligible for voting.\"\"\")\n",
    "else:\n",
    "    print(\"person is eligible for voting\")\n"
   ]
  },
  {
   "cell_type": "code",
   "execution_count": 5,
   "id": "092af903",
   "metadata": {},
   "outputs": [
    {
     "name": "stdout",
     "output_type": "stream",
     "text": [
      "Enter a number to check even or odd\n",
      ">0\n",
      "Even\n"
     ]
    }
   ],
   "source": [
    "# 5)write a python to check whether a number entered by user is even or odd.\n",
    "\n",
    "number = int(input(\"Enter a number to check even or odd\\n>\"))\n",
    "print(\"Even\" if number % 2 == 0 else \"odd\")"
   ]
  },
  {
   "cell_type": "code",
   "execution_count": 6,
   "id": "62e1b06a",
   "metadata": {},
   "outputs": [
    {
     "name": "stdout",
     "output_type": "stream",
     "text": [
      "Enter a number to check if it is divisible by 7\n",
      "> 343\n",
      "Divisible by 7\n"
     ]
    }
   ],
   "source": [
    "# 6)write a python code to check whether a number enterd by user is divisible by 7 or not.\n",
    "\n",
    "number = int(input(\"Enter a number to check if it is divisible by 7\\n> \"))\n",
    "print(\"Divisible by 7\" if number % 7 == 0 else \"Not divisible by 7\")\n"
   ]
  },
  {
   "cell_type": "code",
   "execution_count": 7,
   "id": "4f77da51",
   "metadata": {},
   "outputs": [
    {
     "name": "stdout",
     "output_type": "stream",
     "text": [
      "Guess a number \n",
      "> 1225\n",
      "Hello\n"
     ]
    }
   ],
   "source": [
    "# 7)write a code for to display \"Hello\"if a number entered by user is a multiple of five,otherwise print \"Bye\".\n",
    "\n",
    "number = int(input(\"Guess a number \\n> \"))\n",
    "print(\"Hello\" if number % 5 == 0 else \"Bye\")\n"
   ]
  },
  {
   "cell_type": "code",
   "execution_count": 8,
   "id": "3bec8dd0",
   "metadata": {},
   "outputs": [
    {
     "name": "stdout",
     "output_type": "stream",
     "text": [
      "Enter the marks \n",
      "> 89\n",
      "Grade: A\n"
     ]
    }
   ],
   "source": [
    "# 8)A school has following rules for grading system: \n",
    "# a. Below 25 - Fb. 25 to 45 - E, c. 45 to 50 - D, d. 50 to 60 - C, e. 60 to 80 - B, f. Above 80 - A\n",
    "# Ask user to enter marks and print the corresponding grade.\n",
    "\n",
    "number = int(input(\"Enter the marks \\n> \"))\n",
    "if number > 80:\n",
    "    print(\"Grade: A\")\n",
    "elif 60 <= number < 80:\n",
    "    print(\"Grade: B\")\n",
    "elif 50 <= number < 60:\n",
    "    print(\"Grade: C\")\n",
    "elif 45 <= number < 50:\n",
    "    print(\"Grade: D\")\n",
    "elif 25 <= number < 45:\n",
    "    print(\"Grade: E\")\n",
    "else:\n",
    "    print(\"Grade: F\")"
   ]
  },
  {
   "cell_type": "code",
   "execution_count": 9,
   "id": "bfc1a88c",
   "metadata": {},
   "outputs": [
    {
     "name": "stdout",
     "output_type": "stream",
     "text": [
      "Enter a year \n",
      "> 1900\n",
      "Not a Leap Year\n"
     ]
    }
   ],
   "source": [
    "# 9)write pyhton code for whether given year is leap or not.\n",
    "\n",
    "year = int(input(\"Enter a year \\n> \"))\n",
    "if year % 4 == 0:\n",
    "    if year % 100 == 0:\n",
    "        if year % 400 == 0:\n",
    "            print(\"Leap Year\")\n",
    "        else:\n",
    "            print(\"Not a Leap Year\")\n",
    "    else:\n",
    "        print(\"Leap Year\")\n",
    "else:\n",
    "    print(\"Not a Leap Year\")\n"
   ]
  },
  {
   "cell_type": "code",
   "execution_count": 10,
   "id": "80d61f40",
   "metadata": {},
   "outputs": [
    {
     "name": "stdout",
     "output_type": "stream",
     "text": [
      "Enter the day number\n",
      "> 5\n",
      "Thursday\n",
      "Enter the day number\n",
      "> 6\n",
      "Friday\n"
     ]
    }
   ],
   "source": [
    "# 10)write a program to accept a number from 1 to 7 and display the name of the day like 1 for sunday,2 for Monday and so on.\n",
    "\n",
    "# Method 1\n",
    "day_dictionary = {\n",
    "    1: \"Sunday\",\n",
    "    2: \"Monday\",\n",
    "    3: \"Tuesday\",\n",
    "    4: \"Wednesday\",\n",
    "    5: \"Thursday\",\n",
    "    6: \"Friday\",\n",
    "    7: \"Saturday\"\n",
    "}\n",
    "day_number = int(input(\"Enter the day number\\n> \"))\n",
    "print(day_dictionary.get(day_number, \"Invalid input\"))\n",
    "\n",
    "# Method 2\n",
    "\n",
    "day_number = int(input(\"Enter the day number\\n> \"))\n",
    "if day_number == 1:\n",
    "    print(\"Sunday\")\n",
    "elif day_number == 2:\n",
    "    print(\"Monday\")\n",
    "elif day_number == 3:\n",
    "    print(\"Tuesday\")\n",
    "elif day_number == 4:\n",
    "    print(\"Wednesday\")\n",
    "elif day_number == 5:\n",
    "    print(\"Thursday\")\n",
    "elif day_number == 6:\n",
    "    print(\"Friday\")\n",
    "elif day_number == 7:\n",
    "    print(\"Saturday\")\n",
    "else:\n",
    "    print(\"Invalid Input\")\n"
   ]
  },
  {
   "cell_type": "code",
   "execution_count": 11,
   "id": "e50c3dc8",
   "metadata": {},
   "outputs": [],
   "source": [
    "# 11)what do you mean by statement.\n",
    "# A statement is an instruction that the Python interpreter can execute. We have seen two kinds of statements.\n",
    "# print and assignment\n"
   ]
  },
  {
   "cell_type": "code",
   "execution_count": 12,
   "id": "95a179f8",
   "metadata": {},
   "outputs": [
    {
     "name": "stdout",
     "output_type": "stream",
     "text": [
      "Enter the age of the person:\n",
      "> 60\n",
      "Senior Citizen\n"
     ]
    }
   ],
   "source": [
    "# 12)write a program to check whether a person senior citizen or not.\n",
    "\n",
    "year = int(input(\"Enter the age of the person:\\n> \"))\n",
    "if year >= 60:\n",
    "    print(\"Senior Citizen\")\n",
    "else:\n",
    "    print(\"Not a senior citizen\")\n"
   ]
  },
  {
   "cell_type": "code",
   "execution_count": 14,
   "id": "7396f5f8",
   "metadata": {},
   "outputs": [
    {
     "name": "stdout",
     "output_type": "stream",
     "text": [
      "Enter two numbers\n",
      "> 25 23\n",
      "\n",
      "Second no. is lowest among both \n"
     ]
    }
   ],
   "source": [
    "# 13)write a program to find lowest out of two given numbers.\n",
    "\n",
    "num1, num2 = [int(i) for i in input(\"Enter two numbers\\n> \").split()]\n",
    "if num1 > num2:\n",
    "    print(\"\\nSecond no. is lowest among both \")\n",
    "else:\n",
    "    print(\"\\nFirst number is lowest among both\")\n"
   ]
  },
  {
   "cell_type": "code",
   "execution_count": 15,
   "id": "4ddaa048",
   "metadata": {},
   "outputs": [
    {
     "name": "stdout",
     "output_type": "stream",
     "text": [
      "Enter two numbers\n",
      "> 25 23\n",
      "\n",
      "First no. is largest among both \n"
     ]
    }
   ],
   "source": [
    "# 14)write a program to find largest out of two given numbers.\n",
    "num1, num2 = [int(i) for i in input(\"Enter two numbers\\n> \").split()]\n",
    "if num1 > num2:\n",
    "    print(\"\\nFirst no. is largest among both \")\n",
    "else:\n",
    "    print(\"\\nSecond number is largest among both\")\n"
   ]
  },
  {
   "cell_type": "code",
   "execution_count": 16,
   "id": "1e5a671f",
   "metadata": {},
   "outputs": [
    {
     "name": "stdout",
     "output_type": "stream",
     "text": [
      "Enter a numbers\n",
      "> -2\n",
      "\n",
      "Number is negative\n"
     ]
    }
   ],
   "source": [
    "# 15)write program to check whether a given number is positive or negative.\n",
    "\n",
    "num1 = int(input(\"Enter a numbers\\n> \"))\n",
    "if num1 > 0:\n",
    "    print(\"\\nNumber is positive\")\n",
    "else:\n",
    "    print(\"\\nNumber is negative\")"
   ]
  },
  {
   "cell_type": "code",
   "execution_count": 17,
   "id": "33c9c4cc",
   "metadata": {},
   "outputs": [
    {
     "name": "stdout",
     "output_type": "stream",
     "text": [
      "Enter a numbers\n",
      "> 11\n",
      "No. is not divisible by both 2 and 3\n"
     ]
    }
   ],
   "source": [
    "# 16)write program to check whether a number divisible by 2 and 3 both.\n",
    "\n",
    "num1 = int(input(\"Enter a numbers\\n> \"))\n",
    "bool2 = num1 % 2 == 0\n",
    "bool3 = num1 % 3 == 0\n",
    "if bool2 and bool3:\n",
    "    print(\"No. is divisible by 2 and 3\")\n",
    "elif bool2:\n",
    "    print(\"No. is divisible by 2 but not 3\")\n",
    "elif bool3:\n",
    "    print(\"No. is divisible by 3 but not 2\")\n",
    "else:\n",
    "    print(\"No. is not divisible by both 2 and 3\")"
   ]
  },
  {
   "cell_type": "code",
   "execution_count": 19,
   "id": "ade57db9",
   "metadata": {},
   "outputs": [
    {
     "name": "stdout",
     "output_type": "stream",
     "text": [
      "Enter a numbers\n",
      "> 100\n",
      "Water is boiled\n"
     ]
    }
   ],
   "source": [
    "# 17)Take temperature of water as input and whether the water is boiled or not(water boiled temperature is 100 degree celcius)\n",
    "\n",
    "num1 = int(input(\"Enter a numbers\\n> \"))\n",
    "bool1 = num1 >= 100\n",
    "if bool1:\n",
    "    print(\"Water is boiled\")\n",
    "else:\n",
    "    print(\"Water is not boiled\")"
   ]
  },
  {
   "cell_type": "code",
   "execution_count": 20,
   "id": "571c3db9",
   "metadata": {},
   "outputs": [],
   "source": [
    "# 18)what is the purpose of else in if-elif ladder.\n",
    "# in if - elif ladder we check multiple conditions for being true \n",
    "# if none of the condition gets satisfied we provide a \"else\" block which basically \n",
    "# depicts a sure sort event(istructions to be executed) as above all the icomdition were false."
   ]
  },
  {
   "cell_type": "code",
   "execution_count": 21,
   "id": "ad43bb0c",
   "metadata": {},
   "outputs": [
    {
     "name": "stdout",
     "output_type": "stream",
     "text": [
      "Enter a numbers\n",
      "> 41\n",
      "Number is prime\n"
     ]
    }
   ],
   "source": [
    "# 19)write a program to check whether a given number is prime or not.\n",
    "\n",
    "num1 = int(input(\"Enter a numbers\\n> \"))\n",
    "counter = 0\n",
    "for i in range(2, num1):\n",
    "    if num1 % i == 0:\n",
    "        counter += 1\n",
    "\n",
    "if counter == 0:\n",
    "    print(\"Number is prime\")\n",
    "else:\n",
    "    print(f'''Its a composite number with {(counter+2)} factors''')"
   ]
  },
  {
   "cell_type": "code",
   "execution_count": 22,
   "id": "636170ca",
   "metadata": {},
   "outputs": [
    {
     "name": "stdout",
     "output_type": "stream",
     "text": [
      "Enter a character\n",
      "> data flow diagram\n",
      "Its not a vowel\n"
     ]
    }
   ],
   "source": [
    "# 20)Write a program to check given string is vowel or not.\n",
    "\n",
    "word = input(\"Enter a character\\n> \")\n",
    "vowel = ['a', 'e', 'i', 'o', 'u']\n",
    "counter = 0\n",
    "for char in vowel:\n",
    "    if word[0].lower() == char:\n",
    "        counter += 1\n",
    "\n",
    "if counter > 0:\n",
    "    print(\"Its a vowel\")\n",
    "else:\n",
    "    print(\"Its not a vowel\")"
   ]
  },
  {
   "cell_type": "code",
   "execution_count": 23,
   "id": "3997f18b",
   "metadata": {},
   "outputs": [],
   "source": [
    "# 21)write a syntax for if-else statements.\n",
    "\n",
    "# if(condition):\n",
    "#    <action's to be performed on condtion being true>\n",
    "# else:\n",
    "#     <action's to be performed on condtion being false>\n"
   ]
  },
  {
   "cell_type": "code",
   "execution_count": 24,
   "id": "541bbc39",
   "metadata": {},
   "outputs": [
    {
     "name": "stdout",
     "output_type": "stream",
     "text": [
      "Enter a character\n",
      "> Umbrella\n",
      "Its not a consonant\n"
     ]
    }
   ],
   "source": [
    "# 22) write a code for given string is consonant or not.\n",
    "\n",
    "word = input(\"Enter a character\\n> \")\n",
    "vowel = ['a', 'e', 'i', 'o', 'u']\n",
    "counter = 0\n",
    "for char in vowel:\n",
    "    if word[0].lower() == char:\n",
    "        counter += 1\n",
    "\n",
    "if counter > 0:\n",
    "    print(\"Its not a consonant\")\n",
    "else:\n",
    "    print(\"Its a consonant\")"
   ]
  },
  {
   "cell_type": "code",
   "execution_count": 25,
   "id": "f2bc72c0",
   "metadata": {},
   "outputs": [
    {
     "name": "stdout",
     "output_type": "stream",
     "text": [
      "Enter a number\n",
      "> 343\n",
      "Last digit is divisible by 3\n"
     ]
    }
   ],
   "source": [
    "# 23) write a program to last digit of number is divisible by 3 or not.\n",
    "\n",
    "num1 = input(\"Enter a number\\n> \")\n",
    "if int(num1[-1]) % 3 == 0:\n",
    "    print(\"Last digit is divisible by 3\")\n",
    "else:\n",
    "    print(\"last digit is not divisible by 3\")\n"
   ]
  },
  {
   "cell_type": "code",
   "execution_count": 26,
   "id": "181f88e7",
   "metadata": {},
   "outputs": [
    {
     "name": "stdout",
     "output_type": "stream",
     "text": [
      "Enter length and breadth\n",
      "> 35 35\n",
      "Its not a rectangle but square\n"
     ]
    }
   ],
   "source": [
    "# 24)write pyhton program to check the given length and breath belong to a rectangle or not.\n",
    "\n",
    "length, breath = [int(i) for i in input(\"Enter length and breadth\\n> \").split()]\n",
    "if length == breath:\n",
    "    print(\"Its not a rectangle but square\")\n",
    "else:\n",
    "    print(\"It belongs to a rectangle\")"
   ]
  },
  {
   "cell_type": "code",
   "execution_count": 28,
   "id": "2987d750",
   "metadata": {},
   "outputs": [
    {
     "name": "stdout",
     "output_type": "stream",
     "text": [
      "Enter a number\n",
      "> 45625\n",
      "'Its a 5 digit number.\n"
     ]
    }
   ],
   "source": [
    "# 25)The given number is of one digited or two digited or three digited or more than three digited.\n",
    "\n",
    "num = input(\"Enter a number\\n> \")\n",
    "counter = 0\n",
    "for i in num:\n",
    "    counter += 1\n",
    "\n",
    "print(f'''Its a {counter} digit number.''')\n"
   ]
  },
  {
   "cell_type": "code",
   "execution_count": 30,
   "id": "a3ca609e",
   "metadata": {},
   "outputs": [
    {
     "name": "stdout",
     "output_type": "stream",
     "text": [
      "Enter a number\n",
      "> 1001\n",
      "Its not the smallest 4 digit number\n"
     ]
    }
   ],
   "source": [
    "# 26)write a python program for The entered number is smallest 4 digit number or not.\n",
    "\n",
    "num = int(input(\"Enter a number\\n> \"))\n",
    "\n",
    "if num == 1000:\n",
    "    print(\"its smallest 4 digit number\")\n",
    "else:\n",
    "    print(\"Its not the smallest 4 digit number\")"
   ]
  },
  {
   "cell_type": "code",
   "execution_count": 31,
   "id": "06ea7439",
   "metadata": {},
   "outputs": [
    {
     "name": "stdout",
     "output_type": "stream",
     "text": [
      "Enter 3 numbers\n",
      "> 12 36 28\n",
      "36 is the largest number\n"
     ]
    }
   ],
   "source": [
    "# 27)write a python program for maximum number out of given three numbers.\n",
    "\n",
    "num1, num2, num3 = [int(i) for i in input(\"Enter 3 numbers\\n> \").split()]\n",
    "if num1 > num2 and num1 > num3:\n",
    "    print(f'''{num1} is the largest number''')\n",
    "elif num2 > num3:\n",
    "    print(f'''{num2} is the largest number''')\n",
    "else:\n",
    "    print(f'''{num3} is the largest''')"
   ]
  },
  {
   "cell_type": "code",
   "execution_count": 32,
   "id": "be55b981",
   "metadata": {},
   "outputs": [
    {
     "name": "stdout",
     "output_type": "stream",
     "text": [
      "Enter 3 numbers\n",
      "> 12 36 28\n",
      "12 is the smallest number\n"
     ]
    }
   ],
   "source": [
    "# 28)write a python program for minimum number out of given three numbers.\n",
    "\n",
    "num1, num2, num3 = [int(i) for i in input(\"Enter 3 numbers\\n> \").split()]\n",
    "if num1 < num2 and num1 < num3:\n",
    "    print(f'''{num1} is the smallest number''')\n",
    "elif num2 < num3:\n",
    "    print(f'''{num2} is the smallest number''')\n",
    "else:\n",
    "    print(f'''{num3} is the smallest''')\n"
   ]
  },
  {
   "cell_type": "code",
   "execution_count": 33,
   "id": "48859053",
   "metadata": {},
   "outputs": [
    {
     "name": "stdout",
     "output_type": "stream",
     "text": [
      "Enter the marks \n",
      "> 95\n",
      "Grade: A\n"
     ]
    }
   ],
   "source": [
    "# 29)write a python code for grading given below marks:\n",
    "# :>90 -grade-A, :>80 and <=90 grade_B, :>=60 and <=80- grade-C, below 60 grade-D\n",
    "\n",
    "number = int(input(\"Enter the marks \\n> \"))\n",
    "if number > 90:\n",
    "    print(\"Grade: A\")\n",
    "elif 80 < number <= 90:\n",
    "    print(\"Grade: B\")\n",
    "elif 60 <= number <= 60:\n",
    "    print(\"Grade: C\")\n",
    "elif number < 60:\n",
    "    print(\"Grade D\")\n"
   ]
  },
  {
   "cell_type": "code",
   "execution_count": 34,
   "id": "c2840935",
   "metadata": {},
   "outputs": [
    {
     "name": "stdout",
     "output_type": "stream",
     "text": [
      "Please enter your mother tongue Hindi\n",
      "You speak Hindi\n"
     ]
    }
   ],
   "source": [
    "# 30)write a program to check whether a person speaks in english or hindi from given input string.\n",
    "\n",
    "word = input(\"Please enter your mother tongue \")\n",
    "if word.lower() == \"english\":\n",
    "    print(\"You speak English\")\n",
    "elif word.lower() == \"hindi\":\n",
    "    print(\"You speak Hindi\")\n",
    "# thought of making an array of English and Hindi keywords but I found out that making a array of Hindi\n",
    "# keywords was causing and error (unresolved issue)."
   ]
  },
  {
   "cell_type": "code",
   "execution_count": null,
   "id": "3862a70f",
   "metadata": {},
   "outputs": [],
   "source": []
  }
 ],
 "metadata": {
  "kernelspec": {
   "display_name": "Python 3 (ipykernel)",
   "language": "python",
   "name": "python3"
  },
  "language_info": {
   "codemirror_mode": {
    "name": "ipython",
    "version": 3
   },
   "file_extension": ".py",
   "mimetype": "text/x-python",
   "name": "python",
   "nbconvert_exporter": "python",
   "pygments_lexer": "ipython3",
   "version": "3.9.12"
  }
 },
 "nbformat": 4,
 "nbformat_minor": 5
}
